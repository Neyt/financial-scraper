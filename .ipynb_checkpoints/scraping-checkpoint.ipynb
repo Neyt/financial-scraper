{
 "cells": [
  {
   "cell_type": "code",
   "execution_count": 1,
   "metadata": {},
   "outputs": [
    {
     "name": "stdout",
     "output_type": "stream",
     "text": [
      "Requirement already satisfied: Beautifulsoup4 in /home/leonardo/anaconda3/lib/python3.7/site-packages (4.8.0)\n",
      "Requirement already satisfied: soupsieve>=1.2 in /home/leonardo/anaconda3/lib/python3.7/site-packages (from Beautifulsoup4) (1.9.3)\n"
     ]
    }
   ],
   "source": [
    "!pip install Beautifulsoup4"
   ]
  },
  {
   "cell_type": "code",
   "execution_count": 2,
   "metadata": {},
   "outputs": [
    {
     "name": "stdout",
     "output_type": "stream",
     "text": [
      "Requirement already satisfied: requests in /home/leonardo/anaconda3/lib/python3.7/site-packages (2.22.0)\r\n",
      "Requirement already satisfied: urllib3!=1.25.0,!=1.25.1,<1.26,>=1.21.1 in /home/leonardo/anaconda3/lib/python3.7/site-packages (from requests) (1.24.2)\r\n",
      "Requirement already satisfied: chardet<3.1.0,>=3.0.2 in /home/leonardo/anaconda3/lib/python3.7/site-packages (from requests) (3.0.4)\r\n",
      "Requirement already satisfied: certifi>=2017.4.17 in /home/leonardo/anaconda3/lib/python3.7/site-packages (from requests) (2019.9.11)\r\n",
      "Requirement already satisfied: idna<2.9,>=2.5 in /home/leonardo/anaconda3/lib/python3.7/site-packages (from requests) (2.8)\r\n"
     ]
    }
   ],
   "source": [
    "!pip install requests"
   ]
  },
  {
   "cell_type": "code",
   "execution_count": 4,
   "metadata": {},
   "outputs": [
    {
     "name": "stdout",
     "output_type": "stream",
     "text": [
      "Collecting html5lib\n",
      "  Downloading https://files.pythonhosted.org/packages/6c/dd/a834df6482147d48e225a49515aabc28974ad5a4ca3215c18a882565b028/html5lib-1.1-py2.py3-none-any.whl (112kB)\n",
      "Requirement already satisfied: six>=1.9 in c:\\users\\leona\\appdata\\local\\programs\\python\\python37\\lib\\site-packages (from html5lib) (1.12.0)\n",
      "Requirement already satisfied: webencodings in c:\\users\\leona\\appdata\\local\\programs\\python\\python37\\lib\\site-packages (from html5lib) (0.5.1)\n",
      "Installing collected packages: html5lib\n",
      "Successfully installed html5lib-1.1\n"
     ]
    },
    {
     "name": "stderr",
     "output_type": "stream",
     "text": [
      "You are using pip version 19.0.2, however version 20.2.3 is available.\n",
      "You should consider upgrading via the 'python -m pip install --upgrade pip' command.\n"
     ]
    }
   ],
   "source": [
    "!pip install html5lib"
   ]
  },
  {
   "cell_type": "code",
   "execution_count": 6,
   "metadata": {},
   "outputs": [],
   "source": [
    "import requests\n",
    "import time\n",
    "import pandas as pd\n",
    "import numpy as np\n",
    "from bs4 import BeautifulSoup"
   ]
  },
  {
   "cell_type": "code",
   "execution_count": 2,
   "metadata": {},
   "outputs": [],
   "source": [
    "rep = requests.get('https://www.gurufocus.com/stock/AAPL/summary')\n",
    "if rep.status_code == 200:\n",
    "    htmlPage = BeautifulSoup(rep.text, 'lxml')"
   ]
  },
  {
   "cell_type": "code",
   "execution_count": 3,
   "metadata": {},
   "outputs": [],
   "source": [
    "ratiosDiv = htmlPage.find('div', id='ratios')\n",
    "ratiosTable = ratiosDiv.find('table', class_=\"stock-indicator-table\")\n",
    "fStrengthDiv = htmlPage.find('div', id='financial-strength').div"
   ]
  },
  {
   "cell_type": "code",
   "execution_count": 4,
   "metadata": {},
   "outputs": [],
   "source": [
    "def accessTable(htmlCode, divId, tableClass=\"stock-indicator-table\"):\n",
    "    divSection = htmlCode.find('div', id=divId).div\n",
    "    tableRowsList = divSection.find('table', class_=tableClass).tbody.find_all('tr')\n",
    "    return tableRowsList\n",
    "\n",
    "#profitabilityRows = accessTable(htmlPage, 'profitability')"
   ]
  },
  {
   "cell_type": "code",
   "execution_count": 5,
   "metadata": {},
   "outputs": [
    {
     "data": {
      "text/plain": [
       "\"Apple's PE value is  34.15 \""
      ]
     },
     "execution_count": 5,
     "metadata": {},
     "output_type": "execute_result"
    }
   ],
   "source": []
  },
  {
   "cell_type": "code",
   "execution_count": 6,
   "metadata": {},
   "outputs": [],
   "source": [
    "def getIndicatorsName(trList):\n",
    "    return list(map(lambda x: x.find('td').a.text.replace('\\n',''), trList))\n",
    "    \n",
    "\n",
    "#ratioTableRows = ratiosTable.tbody.find_all('tr')\n",
    "#finStrengthRows = fStrengthDiv.find('table', class_=\"stock-indicator-table\").tbody.find_all('tr')\n",
    "\n",
    "#valuationTable = getIndicatorsName(ratioTableRows)\n",
    "#financialTable = getIndicatorsName(finStrengthRows)\n",
    "#profitabilityTable = getIndicatorsName(profitabilityRows)"
   ]
  },
  {
   "cell_type": "code",
   "execution_count": 5,
   "metadata": {},
   "outputs": [],
   "source": [
    "\n",
    "            \n",
    "#extractValues(profitabilityTable, profitabilityRows, profitability)\n",
    "#extractValues(valuationTable, ratioTableRows, valuationParameters)\n",
    "    "
   ]
  },
  {
   "cell_type": "code",
   "execution_count": 2,
   "metadata": {},
   "outputs": [],
   "source": [
    "def accessTable(htmlCode, divId, tableClass=\"stock-indicator-table\"):\n",
    "    divSection = htmlCode.find('div', id=divId).div\n",
    "    tableRowsList = divSection.find('table', class_=tableClass).tbody.find_all('tr')\n",
    "    return tableRowsList\n",
    "\n",
    "def getIndicatorsName(trList):\n",
    "    return list(map(lambda x: x.find('td').a.text.replace('\\n',''), trList))\n",
    "\n",
    "def extractValues(table, tableCode,parameters):\n",
    "    paramDict = {}\n",
    "    for p in parameters:\n",
    "        try:\n",
    "            indexParam = table.index(p)\n",
    "            pValue = tableCode[indexParam].find_all('td')[1]\n",
    "            print('{0} : {1}'.format(p, pValue.text))\n",
    "            cleanedValue = pValue.text.replace(' ','')\n",
    "            paramDict[p] = float(cleanedValue)\n",
    "        except ValueError:\n",
    "            print('The {} value is not available'.format(p))\n",
    "            paramDict[p] = None\n",
    "    \n",
    "    return paramDict"
   ]
  },
  {
   "cell_type": "code",
   "execution_count": 48,
   "metadata": {},
   "outputs": [],
   "source": [
    "valuationParameters = ['PE Ratio', 'PEG Ratio', 'Forward PE Ratio']\n",
    "finStr = ['Debt-to-Equity', 'Debt-to-EBITDA']\n",
    "profitability = ['ROE %', 'Net Margin %', '3-Year Revenue Growth Rate']\n",
    "shouldBeLow = valuationParameters+finStr\n",
    "\n",
    "def getFinancialIndexes(company, valuation_items = valuationParameters, fin_items=finStr, profit_items=profitability):\n",
    "    \n",
    "    ## Request the page at gurufocus.com\n",
    "    responsePage = requests.get('https://www.gurufocus.com/stock/{}/summary'.format(company))\n",
    "    ## Verifying the response\n",
    "    if responsePage.status_code == 200:\n",
    "        ## Getting the html to scrape\n",
    "        htmlCode = BeautifulSoup(responsePage.text, 'lxml')\n",
    "        ## Getting the valuation table\n",
    "        ratiosDiv = htmlCode.find('div', id='ratios')\n",
    "        ratiosTable = ratiosDiv.find('table', class_=\"stock-indicator-table\")\n",
    "        ratioTableRows = ratiosTable.tbody.find_all('tr')\n",
    "        valuationTable = getIndicatorsName(ratioTableRows)\n",
    "        \n",
    "        ## Getting the profitability and financial strength tables\n",
    "        profitData = accessTable(htmlCode,'profitability')\n",
    "        financialData = accessTable(htmlCode,'financial-strength')\n",
    "        \n",
    "        ## Extracting the indicators at each table\n",
    "        valuationTable = getIndicatorsName(ratioTableRows)\n",
    "        financialTable = getIndicatorsName(financialData)\n",
    "        profitabilityTable = getIndicatorsName(profitData)\n",
    "        ## Extracting their respective values\n",
    "        valuationDict = extractValues(valuationTable, ratioTableRows, valuation_items)\n",
    "        financialDict = extractValues(financialTable, financialData, fin_items)\n",
    "        profitDict = extractValues(profitabilityTable, profitData, profit_items)\n",
    "        ## Grouping everything at one dictionary\n",
    "        groupedDicts = {**valuationDict, **financialDict, **profitDict}\n",
    "        \n",
    "        return groupedDicts\n",
    "        \n",
    "    else:\n",
    "        print('Company not found')\n",
    "        return 0\n",
    "    \n",
    "\n",
    "#appleIndicators = getFinancialIndexes('AAPL')\n",
    "    "
   ]
  },
  {
   "cell_type": "code",
   "execution_count": 51,
   "metadata": {},
   "outputs": [
    {
     "name": "stdout",
     "output_type": "stream",
     "text": [
      "PE Ratio :  14.55 \n",
      "PEG Ratio :  2.03 \n",
      "Forward PE Ratio :  12.44 \n",
      "Debt-to-Equity :  0.39 \n",
      "Debt-to-EBITDA :  0.89 \n",
      "ROE % :  31.65 \n",
      "Net Margin % :  22.75 \n",
      "3-Year Revenue Growth Rate :  6.8 \n",
      "The PE Ratio value is not available\n",
      "The PEG Ratio value is not available\n",
      "Forward PE Ratio :  43.86 \n",
      "Debt-to-Equity :  3.11 \n",
      "Debt-to-EBITDA :  30.99 \n",
      "ROE % :  -20.36 \n",
      "Net Margin % :  -7.83 \n",
      "3-Year Revenue Growth Rate :  22 \n",
      "The PE Ratio value is not available\n",
      "The PEG Ratio value is not available\n",
      "Forward PE Ratio :  2500 \n",
      "Debt-to-Equity :  2.81 \n",
      "Debt-to-EBITDA :  -11.82 \n",
      "ROE % :  -53.82 \n",
      "Net Margin % :  -32.93 \n",
      "3-Year Revenue Growth Rate :  41.3 \n",
      "PE Ratio :  20.76 \n",
      "PEG Ratio :  2.45 \n",
      "Forward PE Ratio :  17.54 \n",
      "The Debt-to-Equity value is not available\n",
      "The Debt-to-EBITDA value is not available\n",
      "ROE % :  23.62 \n",
      "Net Margin % :  41.21 \n",
      "3-Year Revenue Growth Rate :  9.3 \n"
     ]
    }
   ],
   "source": [
    "def comparePIs(stocksData, lowerIsBetter=shouldBeLow):\n",
    "    KPIs = list(stocksData.columns)\n",
    "    compareBase = pd.DataFrame(np.zeros((len(KPIs),2)), index=KPIs, columns=['Best Stock', 'Worst Stock'])\n",
    "    for indicator in KPIs:\n",
    "        if indicator in lowerIsBetter:\n",
    "            compareBase.loc[indicator, 'Best Stock'] = stocksData[indicator].idxmin()\n",
    "            compareBase.loc[indicator, 'Worst Stock'] = stocksData[indicator].idxmax()\n",
    "        else:\n",
    "            compareBase.loc[indicator, 'Best Stock'] = stocksData[indicator].idxmax()\n",
    "            compareBase.loc[indicator, 'Worst Stock'] = stocksData[indicator].idxmin()\n",
    "           \n",
    "    return compareBase\n",
    "                    \n",
    "    \n",
    "    \n",
    "\n",
    "def getCompanies(companyList):\n",
    "    companiesIndicators = {}\n",
    "    for stock in companyList:\n",
    "        stockPerformance = getFinancialIndexes(stock)\n",
    "        companiesIndicators[stock] = stockPerformance\n",
    "        time.sleep(15)\n",
    "        \n",
    "    stocksData = pd.DataFrame.from_dict(companiesIndicators, orient='index')\n",
    "    return stocksData\n",
    "\n",
    "stocks = ['CSCO', 'PANW', 'OKTA', 'CHKP']\n",
    "scrapedStocks = getCompanies(stocks)\n",
    "    "
   ]
  },
  {
   "cell_type": "code",
   "execution_count": 8,
   "metadata": {},
   "outputs": [],
   "source": [
    "KPIs = list(scrapedStocks.columns)"
   ]
  },
  {
   "cell_type": "code",
   "execution_count": 16,
   "metadata": {},
   "outputs": [],
   "source": [
    "Testds = pd.DataFrame(np.zeros((len(KPIs),2)), index=KPIs, columns=['Best Stock', 'Worst Stock'])\n"
   ]
  },
  {
   "cell_type": "code",
   "execution_count": 21,
   "metadata": {},
   "outputs": [],
   "source": [
    "Testds['Best Stock']['PE Ratio'] = 'CSCO'"
   ]
  },
  {
   "cell_type": "code",
   "execution_count": 52,
   "metadata": {},
   "outputs": [
    {
     "data": {
      "text/html": [
       "<div>\n",
       "<style scoped>\n",
       "    .dataframe tbody tr th:only-of-type {\n",
       "        vertical-align: middle;\n",
       "    }\n",
       "\n",
       "    .dataframe tbody tr th {\n",
       "        vertical-align: top;\n",
       "    }\n",
       "\n",
       "    .dataframe thead th {\n",
       "        text-align: right;\n",
       "    }\n",
       "</style>\n",
       "<table border=\"1\" class=\"dataframe\">\n",
       "  <thead>\n",
       "    <tr style=\"text-align: right;\">\n",
       "      <th></th>\n",
       "      <th>Best Stock</th>\n",
       "      <th>Worst Stock</th>\n",
       "    </tr>\n",
       "  </thead>\n",
       "  <tbody>\n",
       "    <tr>\n",
       "      <th>PE Ratio</th>\n",
       "      <td>CSCO</td>\n",
       "      <td>CHKP</td>\n",
       "    </tr>\n",
       "    <tr>\n",
       "      <th>PEG Ratio</th>\n",
       "      <td>CSCO</td>\n",
       "      <td>CHKP</td>\n",
       "    </tr>\n",
       "    <tr>\n",
       "      <th>Forward PE Ratio</th>\n",
       "      <td>CSCO</td>\n",
       "      <td>OKTA</td>\n",
       "    </tr>\n",
       "    <tr>\n",
       "      <th>Debt-to-Equity</th>\n",
       "      <td>CSCO</td>\n",
       "      <td>PANW</td>\n",
       "    </tr>\n",
       "    <tr>\n",
       "      <th>Debt-to-EBITDA</th>\n",
       "      <td>OKTA</td>\n",
       "      <td>PANW</td>\n",
       "    </tr>\n",
       "    <tr>\n",
       "      <th>ROE %</th>\n",
       "      <td>CSCO</td>\n",
       "      <td>OKTA</td>\n",
       "    </tr>\n",
       "    <tr>\n",
       "      <th>Net Margin %</th>\n",
       "      <td>CHKP</td>\n",
       "      <td>OKTA</td>\n",
       "    </tr>\n",
       "    <tr>\n",
       "      <th>3-Year Revenue Growth Rate</th>\n",
       "      <td>OKTA</td>\n",
       "      <td>CSCO</td>\n",
       "    </tr>\n",
       "  </tbody>\n",
       "</table>\n",
       "</div>"
      ],
      "text/plain": [
       "                           Best Stock Worst Stock\n",
       "PE Ratio                         CSCO        CHKP\n",
       "PEG Ratio                        CSCO        CHKP\n",
       "Forward PE Ratio                 CSCO        OKTA\n",
       "Debt-to-Equity                   CSCO        PANW\n",
       "Debt-to-EBITDA                   OKTA        PANW\n",
       "ROE %                            CSCO        OKTA\n",
       "Net Margin %                     CHKP        OKTA\n",
       "3-Year Revenue Growth Rate       OKTA        CSCO"
      ]
     },
     "execution_count": 52,
     "metadata": {},
     "output_type": "execute_result"
    }
   ],
   "source": [
    "comparePIs(scrapedStocks)"
   ]
  }
 ],
 "metadata": {
  "kernelspec": {
   "display_name": "Python 3",
   "language": "python",
   "name": "python3"
  },
  "language_info": {
   "codemirror_mode": {
    "name": "ipython",
    "version": 3
   },
   "file_extension": ".py",
   "mimetype": "text/x-python",
   "name": "python",
   "nbconvert_exporter": "python",
   "pygments_lexer": "ipython3",
   "version": "3.7.4"
  }
 },
 "nbformat": 4,
 "nbformat_minor": 2
}

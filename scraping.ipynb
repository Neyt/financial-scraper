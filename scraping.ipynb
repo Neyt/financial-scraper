{
 "cells": [
  {
   "cell_type": "code",
   "execution_count": 2,
   "metadata": {},
   "outputs": [
    {
     "name": "stdout",
     "output_type": "stream",
     "text": [
      "Collecting Beautifulsoup4\n",
      "  Downloading https://files.pythonhosted.org/packages/66/25/ff030e2437265616a1e9b25ccc864e0371a0bc3adb7c5a404fd661c6f4f6/beautifulsoup4-4.9.1-py3-none-any.whl (115kB)\n",
      "Collecting soupsieve>1.2 (from Beautifulsoup4)\n",
      "  Downloading https://files.pythonhosted.org/packages/6f/8f/457f4a5390eeae1cc3aeab89deb7724c965be841ffca6cfca9197482e470/soupsieve-2.0.1-py3-none-any.whl\n",
      "Installing collected packages: soupsieve, Beautifulsoup4\n",
      "Successfully installed Beautifulsoup4-4.9.1 soupsieve-2.0.1\n"
     ]
    },
    {
     "name": "stderr",
     "output_type": "stream",
     "text": [
      "You are using pip version 19.0.2, however version 20.2.3 is available.\n",
      "You should consider upgrading via the 'python -m pip install --upgrade pip' command.\n"
     ]
    }
   ],
   "source": [
    "!pip install Beautifulsoup4"
   ]
  },
  {
   "cell_type": "code",
   "execution_count": 6,
   "metadata": {},
   "outputs": [
    {
     "name": "stdout",
     "output_type": "stream",
     "text": [
      "Collecting requests\n",
      "  Downloading https://files.pythonhosted.org/packages/45/1e/0c169c6a5381e241ba7404532c16a21d86ab872c9bed8bdcd4c423954103/requests-2.24.0-py2.py3-none-any.whl (61kB)\n",
      "Collecting urllib3!=1.25.0,!=1.25.1,<1.26,>=1.21.1 (from requests)\n",
      "  Downloading https://files.pythonhosted.org/packages/9f/f0/a391d1463ebb1b233795cabfc0ef38d3db4442339de68f847026199e69d7/urllib3-1.25.10-py2.py3-none-any.whl (127kB)\n",
      "Collecting idna<3,>=2.5 (from requests)\n",
      "  Downloading https://files.pythonhosted.org/packages/a2/38/928ddce2273eaa564f6f50de919327bf3a00f091b5baba8dfa9460f3a8a8/idna-2.10-py2.py3-none-any.whl (58kB)\n",
      "Collecting certifi>=2017.4.17 (from requests)\n",
      "  Downloading https://files.pythonhosted.org/packages/5e/c4/6c4fe722df5343c33226f0b4e0bb042e4dc13483228b4718baf286f86d87/certifi-2020.6.20-py2.py3-none-any.whl (156kB)\n",
      "Collecting chardet<4,>=3.0.2 (from requests)\n",
      "  Downloading https://files.pythonhosted.org/packages/bc/a9/01ffebfb562e4274b6487b4bb1ddec7ca55ec7510b22e4c51f14098443b8/chardet-3.0.4-py2.py3-none-any.whl (133kB)\n",
      "Installing collected packages: urllib3, idna, certifi, chardet, requests\n",
      "Successfully installed certifi-2020.6.20 chardet-3.0.4 idna-2.10 requests-2.24.0 urllib3-1.25.10\n"
     ]
    },
    {
     "name": "stderr",
     "output_type": "stream",
     "text": [
      "You are using pip version 19.0.2, however version 20.2.3 is available.\n",
      "You should consider upgrading via the 'python -m pip install --upgrade pip' command.\n"
     ]
    }
   ],
   "source": [
    "!pip install requests"
   ]
  },
  {
   "cell_type": "code",
   "execution_count": 4,
   "metadata": {},
   "outputs": [
    {
     "name": "stdout",
     "output_type": "stream",
     "text": [
      "Collecting html5lib\n",
      "  Downloading https://files.pythonhosted.org/packages/6c/dd/a834df6482147d48e225a49515aabc28974ad5a4ca3215c18a882565b028/html5lib-1.1-py2.py3-none-any.whl (112kB)\n",
      "Requirement already satisfied: six>=1.9 in c:\\users\\leona\\appdata\\local\\programs\\python\\python37\\lib\\site-packages (from html5lib) (1.12.0)\n",
      "Requirement already satisfied: webencodings in c:\\users\\leona\\appdata\\local\\programs\\python\\python37\\lib\\site-packages (from html5lib) (0.5.1)\n",
      "Installing collected packages: html5lib\n",
      "Successfully installed html5lib-1.1\n"
     ]
    },
    {
     "name": "stderr",
     "output_type": "stream",
     "text": [
      "You are using pip version 19.0.2, however version 20.2.3 is available.\n",
      "You should consider upgrading via the 'python -m pip install --upgrade pip' command.\n"
     ]
    }
   ],
   "source": [
    "!pip install html5lib"
   ]
  },
  {
   "cell_type": "code",
   "execution_count": 2,
   "metadata": {},
   "outputs": [],
   "source": [
    "import requests\n",
    "from bs4 import BeautifulSoup"
   ]
  },
  {
   "cell_type": "code",
   "execution_count": 3,
   "metadata": {},
   "outputs": [],
   "source": [
    "response = requests.get('https://www.gurufocus.com/stock/AAPL/summary')\n",
    "if response.status_code == 200:\n",
    "    htmlPage = BeautifulSoup(response.text, 'lxml')"
   ]
  },
  {
   "cell_type": "code",
   "execution_count": 4,
   "metadata": {},
   "outputs": [],
   "source": [
    "ratiosDiv = htmlPage.find('div', id='ratios')\n",
    "ratiosTable = ratiosDiv.find('table', class_=\"stock-indicator-table\")\n",
    "fStrengthDiv = htmlPage.find('div', id='financial-strength').div"
   ]
  },
  {
   "cell_type": "code",
   "execution_count": 17,
   "metadata": {},
   "outputs": [],
   "source": [
    "def accessTable(htmlCode, divId, tableClass=\"stock-indicator-table\"):\n",
    "    divSection = htmlCode.find('div', id=divId).div\n",
    "    tableRowsList = divSection.find('table', class_=tableClass).tbody.find_all('tr')\n",
    "    return tableRowsList\n",
    "\n",
    "profitabilityRows = accessTable(htmlPage, 'profitability')"
   ]
  },
  {
   "cell_type": "code",
   "execution_count": 5,
   "metadata": {},
   "outputs": [
    {
     "data": {
      "text/plain": [
       "\"Apple's PE value is  34.15 \""
      ]
     },
     "execution_count": 5,
     "metadata": {},
     "output_type": "execute_result"
    }
   ],
   "source": [
    "#\"Apple's PE value is {1}\".format(tableRow[0].a.text,tableRow[1].text)"
   ]
  },
  {
   "cell_type": "code",
   "execution_count": 18,
   "metadata": {},
   "outputs": [],
   "source": [
    "def getIndicatorsName(trList):\n",
    "    return list(map(lambda x: x.find('td').a.text.replace('\\n',''), trList))\n",
    "    \n",
    "\n",
    "ratioTableRows = ratiosTable.tbody.find_all('tr')\n",
    "finStrengthRows = fStrengthDiv.find('table', class_=\"stock-indicator-table\").tbody.find_all('tr')\n",
    "\n",
    "valuationTable = getIndicatorsName(ratioTableRows)\n",
    "financialTable = getIndicatorsName(finStrengthRows)\n",
    "profitabilityTable = getIndicatorsName(profitabilityRows)"
   ]
  },
  {
   "cell_type": "code",
   "execution_count": 22,
   "metadata": {},
   "outputs": [
    {
     "name": "stdout",
     "output_type": "stream",
     "text": [
      "ROE % :  68.38 \n",
      "Net Margin % :  21.33 \n",
      "PE Ratio :  34.15 \n",
      "PEG Ratio :  3.35 \n",
      "The q value is not available\n"
     ]
    }
   ],
   "source": [
    "valuationParameters = ['PE Ratio', 'PEG Ratio','q']\n",
    "finStrengthParameters = ['Debt-to-Equity', 'Debt-to-EBITDA']\n",
    "profitability = ['ROE %', 'Net Margin %', '3-Year Revenue Growth Rate']\n",
    "\n",
    "\n",
    "def extractValues(table, tableCode,parameters):\n",
    "    for p in parameters:\n",
    "        try:\n",
    "            indexParam = table.index(p)\n",
    "            pValue = tableCode[indexParam].find_all('td')[1]\n",
    "            print('{0} : {1}'.format(p, pValue.text))\n",
    "        except ValueError:\n",
    "            print('The {} value is not available'.format(p))\n",
    "            \n",
    "extractValues(profitabilityTable, profitabilityRows, profitability)\n",
    "extractValues(valuationTable, ratioTableRows, valuationParameters)\n",
    "    "
   ]
  },
  {
   "cell_type": "code",
   "execution_count": 19,
   "metadata": {},
   "outputs": [
    {
     "data": {
      "text/plain": [
       "['Operating Margin %',\n",
       " 'Net Margin %',\n",
       " 'ROE %',\n",
       " 'ROA %',\n",
       " 'ROC (Joel Greenblatt) %',\n",
       " '3-Year Revenue Growth Rate',\n",
       " '3-Year EBITDA Growth Rate',\n",
       " '3-Year EPS without NRI Growth Rate']"
      ]
     },
     "execution_count": 19,
     "metadata": {},
     "output_type": "execute_result"
    }
   ],
   "source": [
    "profitabilityTable"
   ]
  }
 ],
 "metadata": {
  "kernelspec": {
   "display_name": "Python 3",
   "language": "python",
   "name": "python3"
  },
  "language_info": {
   "codemirror_mode": {
    "name": "ipython",
    "version": 3
   },
   "file_extension": ".py",
   "mimetype": "text/x-python",
   "name": "python",
   "nbconvert_exporter": "python",
   "pygments_lexer": "ipython3",
   "version": "3.7.2"
  }
 },
 "nbformat": 4,
 "nbformat_minor": 2
}
